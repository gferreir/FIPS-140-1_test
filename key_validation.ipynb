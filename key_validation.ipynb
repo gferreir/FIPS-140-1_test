{
  "nbformat": 4,
  "nbformat_minor": 0,
  "metadata": {
    "colab": {
      "name": "Validação de chaves aleatórias.ipynb",
      "provenance": [],
      "mount_file_id": "1AyjgOnCWp0TUxZRVR0gukMVvzgtdUXNM",
      "authorship_tag": "ABX9TyNMscD53mv0wyzB2lBCEpxO",
      "include_colab_link": true
    },
    "kernelspec": {
      "name": "python3",
      "display_name": "Python 3"
    }
  },
  "cells": [
    {
      "cell_type": "markdown",
      "metadata": {
        "id": "view-in-github",
        "colab_type": "text"
      },
      "source": [
        "<a href=\"https://colab.research.google.com/github/IgorNascAlves/Validacao-de-chaves-aleatorias-FIPS-140-1/blob/master/Valida%C3%A7%C3%A3o_de_chaves_aleat%C3%B3rias.ipynb\" target=\"_parent\"><img src=\"https://colab.research.google.com/assets/colab-badge.svg\" alt=\"Open In Colab\"/></a>"
      ]
    },
    {
      "cell_type": "code",
      "metadata": {
        "id": "mwNH4YqjqrkL",
        "colab_type": "code",
        "outputId": "12ac6af3-9ac6-47a3-c482-84afc7299dc7",
        "colab": {
          "base_uri": "https://localhost:8080/",
          "height": 34
        },
        "tags": []
      },
      "source": [
        "!pip install BitVector"
      ],
      "execution_count": 1,
      "outputs": [
        {
          "output_type": "stream",
          "name": "stdout",
          "text": "Requirement already satisfied: BitVector in /home/gferreir/.local/lib/python3.8/site-packages (3.4.9)\n"
        }
      ]
    },
    {
      "cell_type": "code",
      "metadata": {
        "id": "08TXXlPNhRMv",
        "colab_type": "code",
        "colab": {}
      },
      "source": [
        "import pandas as pd\n",
        "from collections import Counter\n",
        "from BitVector import BitVector"
      ],
      "execution_count": 2,
      "outputs": []
    },
    {
      "cell_type": "code",
      "metadata": {
        "id": "_CoPalDejFyR",
        "colab_type": "code",
        "colab": {},
        "tags": []
      },
      "source": [
        "URI = './chaves.txt'\n",
        "data = pd.read_csv(URI, sep=\"'\", header=None)\n",
        "data = data.drop(columns=[0, 2])\n",
        "data = pd.DataFrame([f\"{BitVector(hexstring = item)}\" for item in data[1]])"
      ],
      "execution_count": 3,
      "outputs": []
    },
    {
      "cell_type": "markdown",
      "metadata": {
        "id": "ZX-gvb5QuTIH",
        "colab_type": "text"
      },
      "source": [
        "# The Monobit Test"
      ]
    },
    {
      "cell_type": "code",
      "metadata": {
        "id": "mRWtZqyAshPr",
        "colab_type": "code",
        "colab": {}
      },
      "source": [
        "#9654 < X < 10346"
      ],
      "execution_count": 4,
      "outputs": []
    },
    {
      "cell_type": "code",
      "metadata": {
        "id": "GHb3Buajp4vx",
        "colab_type": "code",
        "colab": {}
      },
      "source": [
        "contador = []\n",
        "for chave in data[0].values:\n",
        "  c = Counter(chave)\n",
        "  contador.append(c['1'])"
      ],
      "execution_count": 5,
      "outputs": []
    },
    {
      "cell_type": "code",
      "metadata": {
        "id": "wJTP7JMZsWqa",
        "colab_type": "code",
        "outputId": "4b2060b5-2683-4d69-fc05-57c521665964",
        "colab": {
          "base_uri": "https://localhost:8080/",
          "height": 34
        },
        "tags": []
      },
      "source": [
        "chaves_fail_monobit = []\n",
        "i = 0\n",
        "ind = 0\n",
        "for item in contador:\n",
        "  if item > 9654 and item < 10346:\n",
        "    i = i + 1\n",
        "  else:\n",
        "    chaves_fail_monobit.append(ind)\n",
        "  ind = ind + 1\n",
        "print(f\"No The Monobit Test do total de {len(contador)} chaves, {i} chaves passaram\")"
      ],
      "execution_count": 6,
      "outputs": [
        {
          "output_type": "stream",
          "name": "stdout",
          "text": "No The Monobit Test do total de 20 chaves, 10 chaves passaram\n"
        }
      ]
    },
    {
      "cell_type": "markdown",
      "metadata": {
        "id": "F7Jtfj1IuCCM",
        "colab_type": "text"
      },
      "source": [
        "# The Poker Test"
      ]
    },
    {
      "cell_type": "code",
      "metadata": {
        "id": "MGtbHPiXuIXw",
        "colab_type": "code",
        "colab": {}
      },
      "source": [
        "#Divide the 20,000 bit stream into 5,000 contiguous 4 bit segments.\n",
        "contador_por_chave = []\n",
        "contador = []\n",
        "nibble = ''\n",
        "i = 0\n",
        "for chave in data[0].values:\n",
        "  for valor in chave:\n",
        "    if i == 4:\n",
        "      contador.append(nibble)\n",
        "      i = 0\n",
        "      nibble = ''\n",
        "    nibble = nibble + valor\n",
        "    i = i + 1\n",
        "  contador_por_chave.append(contador)\n",
        "  contador = []\n",
        "contador_por_chave = pd.DataFrame(contador_por_chave)"
      ],
      "execution_count": 7,
      "outputs": []
    },
    {
      "cell_type": "code",
      "metadata": {
        "id": "LMbLY6TCwgic",
        "colab_type": "code",
        "colab": {}
      },
      "source": [
        "#Count and store the number of occurrences of each of the 16 possible 4 bit values.\n",
        "nibbles = ['0000','0001','0010','0011',\n",
        "           '0100','0101','0110','0111',\n",
        "           '1000','1001','1010','1011',\n",
        "           '1100','1101','1110','1111',\n",
        "           ]\n",
        "nibble_por_chave = {}          \n",
        "total_nibble_por_chave = []\n",
        "for chave in contador_por_chave.values:           \n",
        "  for nibble in nibbles:\n",
        "    c = Counter(chave)\n",
        "    nibble_por_chave[nibble] = c[nibble]\n",
        "  total_nibble_por_chave.append(nibble_por_chave)\n",
        "  nibble_por_chave = {}\n",
        "total_nibble_por_chave = pd.DataFrame(total_nibble_por_chave)"
      ],
      "execution_count": 8,
      "outputs": []
    },
    {
      "cell_type": "code",
      "metadata": {
        "id": "4wsE5KzAwqSM",
        "colab_type": "code",
        "colab": {}
      },
      "source": [
        "#Denote f(i) as the number of each 4 bit value i where 0 s is 15.\n",
        "soma_chaves = []\n",
        "acumulado = 0\n",
        "x = 0\n",
        "#chave = total_nibble_por_chave[:1]\n",
        "for chave in total_nibble_por_chave.values:\n",
        "  for valor in chave:\n",
        "    acumulado = acumulado + valor * valor\n",
        "  x = (16/5000) * acumulado - 5000\n",
        "  soma_chaves.append(x)\n",
        "  x = 0\n",
        "  acumulado = 0\n",
        "soma_chaves = pd.DataFrame(soma_chaves)"
      ],
      "execution_count": 9,
      "outputs": []
    },
    {
      "cell_type": "code",
      "metadata": {
        "id": "xdmOEzl6wwwD",
        "colab_type": "code",
        "outputId": "fdce2e2a-76ec-416e-e45d-8ba9db023946",
        "colab": {
          "base_uri": "https://localhost:8080/",
          "height": 34
        },
        "tags": []
      },
      "source": [
        "#The test is passed if 1.03 < X < 57.4.\n",
        "chaves_fail_poker = []\n",
        "ind = 0\n",
        "i = 0\n",
        "for chave in soma_chaves.values:\n",
        "  if chave > 1.03 and chave < 57.4:\n",
        "    i = i + 1\n",
        "  else:\n",
        "    chaves_fail_poker.append(ind)\n",
        "  ind = ind + 1\n",
        "print(f\"No The Poker Test do total de {len(soma_chaves)} chaves, {i} chaves passaram\")    "
      ],
      "execution_count": 10,
      "outputs": [
        {
          "output_type": "stream",
          "name": "stdout",
          "text": "No The Poker Test do total de 20 chaves, 10 chaves passaram\n"
        }
      ]
    },
    {
      "cell_type": "markdown",
      "metadata": {
        "id": "lTlNG6b04pgG",
        "colab_type": "text"
      },
      "source": [
        "# The Run Test"
      ]
    },
    {
      "cell_type": "code",
      "metadata": {
        "id": "m2soMwixkLBp",
        "colab_type": "code",
        "colab": {}
      },
      "source": [
        "contador_label = {\n",
        "    '1': 0,\n",
        "    '2': 0,\n",
        "    '3': 0,\n",
        "    '4': 0,\n",
        "    '5': 0,\n",
        "    '6': 0,\n",
        "}\n",
        "contador_por_chave = []\n",
        "salvo = ''\n",
        "i = 0\n",
        "j = 0\n",
        "for ind in range(0,20,1):\n",
        "  chave = data[0].values[ind]\n",
        "  for item in chave:\n",
        "    if salvo == '':\n",
        "      salvo = item\n",
        "      i = i + 1\n",
        "    else:  \n",
        "      if item == salvo:\n",
        "        i = i + 1\n",
        "      else:\n",
        "        if i >= 6:\n",
        "          contador_label['6'] = contador_label['6'] + 1\n",
        "        if i == 5:\n",
        "          contador_label['5'] = contador_label['5'] + 1\n",
        "        if i == 4:\n",
        "          contador_label['4'] = contador_label['4'] + 1\n",
        "        if i == 3:\n",
        "          contador_label['3'] = contador_label['3'] + 1\n",
        "        if i == 2:\n",
        "          contador_label['2'] = contador_label['2'] + 1\n",
        "        if i == 1:\n",
        "          contador_label['1'] = contador_label['1'] + 1\n",
        "        i = 0\n",
        "        salvo = item\n",
        "  contador_por_chave.append(contador_label)\n",
        "  contador_label = {\n",
        "    '1': 0,\n",
        "    '2': 0,\n",
        "    '3': 0,\n",
        "    '4': 0,\n",
        "    '5': 0,\n",
        "    '6': 0,\n",
        "  }\n",
        "  salvo = ''\n",
        "contador_por_chave = pd.DataFrame(contador_por_chave)"
      ],
      "execution_count": 11,
      "outputs": []
    },
    {
      "cell_type": "code",
      "metadata": {
        "id": "UxMBScKb8USl",
        "colab_type": "code",
        "colab": {}
      },
      "source": [
        "#1 2267 - 2733\n",
        "#2 1079 - 1421\n",
        "#3  502 - 748\n",
        "#4  223 - 402\n",
        "#5   90 - 223 \n",
        "#6+  90 - 223"
      ],
      "execution_count": 12,
      "outputs": []
    },
    {
      "cell_type": "code",
      "metadata": {
        "colab_type": "code",
        "outputId": "afaa2b04-3847-4baa-dd8b-9404433d8295",
        "id": "CNn1WyA1sNnH",
        "colab": {
          "base_uri": "https://localhost:8080/",
          "height": 34
        },
        "tags": []
      },
      "source": [
        "chaves_fail_run = []\n",
        "ind = 0\n",
        "i = 0\n",
        "for contador in contador_por_chave.values:\n",
        "  if contador[5] < 90 or contador[5] > 223:\n",
        "    chaves_fail_run.append(ind)\n",
        "  elif contador[4] < 90 or contador[4] > 223:\n",
        "    chaves_fail_run.append(ind)\n",
        "  elif contador[3] < 223 or contador[3] > 402:\n",
        "    chaves_fail_run.append(ind)\n",
        "  elif contador[2] < 502 or contador[2] > 748:\n",
        "    chaves_fail_run.append(ind)\n",
        "  elif contador[1] < 1079 or contador[1] > 1421:\n",
        "    chaves_fail_run.append(ind)\n",
        "  elif contador[0] < 2267 or contador[0] > 2733:\n",
        "    chaves_fail_run.append(ind)\n",
        "  ind = ind + 1\n",
        "print(f\"No The Run Test, do total de {len(contador_por_chave)} chaves, {len(contador_por_chave) - len(chaves_fail_run)} chaves passaram\")"
      ],
      "execution_count": 13,
      "outputs": [
        {
          "output_type": "stream",
          "name": "stdout",
          "text": "No The Run Test, do total de 20 chaves, 13 chaves passaram\n"
        }
      ]
    },
    {
      "cell_type": "markdown",
      "metadata": {
        "id": "jWTztsBJubKM",
        "colab_type": "text"
      },
      "source": [
        "# The Long Run Test"
      ]
    },
    {
      "cell_type": "code",
      "metadata": {
        "id": "f0QAFShkuiNQ",
        "colab_type": "code",
        "colab": {}
      },
      "source": [
        "#long run = len(1) or len(0) >= 34\n",
        "#passed id no long run"
      ],
      "execution_count": 14,
      "outputs": []
    },
    {
      "cell_type": "code",
      "metadata": {
        "id": "6giccxqzBGK8",
        "colab_type": "code",
        "colab": {}
      },
      "source": [
        "contador_por_chave = []\n",
        "contador = []\n",
        "salvo = ''\n",
        "i = 0\n",
        "j = 0\n",
        "for ind in range(0,20,1):\n",
        "  chave = data[0].values[ind]\n",
        "  for item in chave:\n",
        "    if salvo == '':\n",
        "      salvo = item\n",
        "    else:  \n",
        "      if item == salvo:\n",
        "        i = i + 1\n",
        "      else:\n",
        "        contador.append(i)\n",
        "        i = 0\n",
        "        salvo = item\n",
        "  contador_por_chave.append(contador)\n",
        "  contador = []\n",
        "  salvo = ''\n",
        "contador_por_chave = pd.DataFrame(contador_por_chave)"
      ],
      "execution_count": 16,
      "outputs": []
    },
    {
      "cell_type": "code",
      "metadata": {
        "id": "3MD8vex8yD0x",
        "colab_type": "code",
        "outputId": "64eaf2f9-5e9d-4db0-e48e-c4e2f3e739de",
        "colab": {
          "base_uri": "https://localhost:8080/",
          "height": 34
        },
        "tags": []
      },
      "source": [
        "chaves_fail_long = []\n",
        "ind = 0\n",
        "i = 0\n",
        "for contador in contador_por_chave.values:\n",
        "  if len(contador[contador > 33]) == 0:\n",
        "    i = i + 1\n",
        "  else:\n",
        "    chaves_fail_long.append(ind)\n",
        "  ind = ind + 1\n",
        "print(f\"No The Long Run Test, do total de {len(contador_por_chave)} chaves, {i} chaves passaram\")"
      ],
      "execution_count": 17,
      "outputs": [
        {
          "output_type": "stream",
          "name": "stdout",
          "text": "No The Long Run Test, do total de 20 chaves, 20 chaves passaram\n"
        }
      ]
    },
    {
      "cell_type": "markdown",
      "metadata": {
        "id": "REdusxjOld1Z",
        "colab_type": "text"
      },
      "source": [
        "# Testes"
      ]
    },
    {
      "cell_type": "code",
      "metadata": {
        "id": "ViCFPBMzlprI",
        "colab_type": "code",
        "colab": {
          "base_uri": "https://localhost:8080/",
          "height": 85
        },
        "outputId": "f3e9581b-242b-4a1b-82f8-af10201ce7fa",
        "tags": []
      },
      "source": [
        "print(\"Monobit falharam:\", len(chaves_fail_monobit), chaves_fail_monobit)\n",
        "print(\"Poker falharam:\", len(chaves_fail_poker), chaves_fail_poker)\n",
        "print(\"Run falharam:\", len(chaves_fail_run), chaves_fail_run)\n",
        "print(\"Long Run falharam:\", len(chaves_fail_long), chaves_fail_long)"
      ],
      "execution_count": 18,
      "outputs": [
        {
          "output_type": "stream",
          "name": "stdout",
          "text": "Monobit falharam: 10 [2, 3, 4, 5, 6, 7, 8, 9, 10, 11]\nPoker falharam: 10 [2, 3, 4, 5, 6, 7, 8, 9, 10, 11]\nRun falharam: 7 [2, 3, 4, 8, 9, 10, 11]\nLong Run falharam: 0 []\n"
        }
      ]
    },
    {
      "cell_type": "code",
      "execution_count": null,
      "metadata": {},
      "outputs": [],
      "source": []
    }
  ]
}